{
 "cells": [
  {
   "cell_type": "markdown",
   "metadata": {},
   "source": [
    "# DETECCIÓN Y TRATAMIENTO DE VALORES ATÍPICOS"
   ]
  },
  {
   "cell_type": "markdown",
   "metadata": {},
   "source": [
    "## Por: Keveen Rodríguez \n",
    "GRUNECO - 2019-1\n",
    "![gruneco](gruneco.png)"
   ]
  },
  {
   "cell_type": "markdown",
   "metadata": {},
   "source": [
    "En la fase del pre-procesamiento de los datos una de las características (pasos) más importantes es la detección y el tratamiento de los datos atípicos. \n",
    "Los valores atípicos se definen como muestras que son significativamente diferentes de los datos restantes. Esos son puntos que están por fuera del patrón general de la distribución de los datos. Las medidas estadísticas, como la media, la varianza y la correlación, son muy susceptibles a los valores atípicos, generando incclusive sesgo estadístico (bias).\n",
    "Los algoritmos de aprendizaje automático (del inglés 'Machine learning') son muy sensibles al rango y la distribución de los puntos de datos. Los datos atípicos pueden engañar el proceso de capacitación, lo que resulta en tiempos de capacitación más largos y modelos menos precisos."
   ]
  },
  {
   "cell_type": "markdown",
   "metadata": {},
   "source": [
    "Un punto que se desvía del patrón general es un ejemplo simple de un valor atípico.\n",
    "![oulier](outliers.png)\n",
    "![outlier_2](outlier_2.jpeg)"
   ]
  },
  {
   "cell_type": "markdown",
   "metadata": {},
   "source": [
    "En la fase de la exploración de datos consta de muchas cosas, como la identificación de variables, el tratamiento de valores perdidos, la ingeniería de características, etc. La detección y el tratamiento de valores atípicos también es una pieza fundamental en la etapa de exploración de datos. ¡La calidad de sus entradas decide la calidad de su salida!"
   ]
  },
  {
   "cell_type": "markdown",
   "metadata": {},
   "source": [
    "## Valores atípicos\n",
    "\n",
    "Un valor atípico es cualquier punto de datos que difiera mucho del resto de las observaciones en un conjunto de datos.\n",
    "Los valores atípicos pueden ocurrir en el conjunto de datos debido a una de las siguientes razones:\n",
    "1. Valores extremos altos y bajos en el conjunto de datos\n",
    "2. Introducido por error humano o mecánico.\n",
    "3. Introducido por la sustitución de valores perdidos\n",
    "\n",
    "En algunos casos, la presencia de valores atípicos es informativa y requerirá un estudio adicional. Por ejemplo, los valores atípicos son importantes en los casos de uso relacionados con la administración de transacciones, donde se puede usar un valor atípico para identificar transacciones potencialmente fraudulentas.\n",
    "\n",
    "## ¿Qué causa los valores atípicos?\n",
    "\n",
    "Los valores extremos pueden surgir de varios mecanismos o causas diferentes. Anscombe (1960) clasifica los valores atípicos en dos categorías principales: \n",
    "1. Los que surgen de los errores en los datos\n",
    "2. Los que surgen de la variabilidad inherente de los datos. \n",
    "\n",
    "No todos los valores atípicos son contaminantes ilegítimos, y no todas las anotaciones ilegítimas se consideran valores atípicos (Barnett y Lewis, 1994).\n",
    "\n",
    "### Causas\n",
    "\n",
    "Hay una cantidad de razones por las cuales existen valores atípicos, por lo general se han agrupado en diferentes clases, las cuales se tienen:\n",
    "- Valores atípicos por errores de datos\n",
    "- Valores atípicos de información errónea intencional o motivada.\n",
    "- Valores atípicos por errores de muestreo\n",
    "- Valores atípicos fallo de estandarización\n",
    "- Valores atípicos supuestos distributivos defectuosos\n",
    "- Valores atípicos como casos legítimos muestreados de la población correcta.\n",
    "- Valores atípicos como posible foco de investigación\n",
    "\n",
    "Para una mayor profundidad en las causas visitar [Practical assesment, research and evaluation](https://pareonline.net/getvn.asp?v=9&n=6)\n",
    "\n",
    "### Tipos de valores atípicos\n",
    "\n",
    "Hay dos tipos, univariado y multivariado.\n",
    "\n",
    "__Un valor atípico univariado__ es un punto de datos que consta de valores extremos en una sola variable.\n",
    "\n",
    "\n",
    "__Un valor atípico multivariado__ es una puntuación inusual combinada en al menos dos variables. Supongamos que tiene tres variables diferentes: X, Y, Z. Si traza una gráfica de estas en un espacio 3D, deberían formar una especie de nube. Todos los puntos de datos que se encuentran fuera de esta nube serán los valores atípicos multivariados.\n",
    "\n",
    "\n",
    "## ¿Cúal es el impacto que tienen sobre el conjuto de datos?\n",
    "\n",
    "Los valores atípicos pueden cambiar drásticamente los resultados del análisis de datos y el modelado estadístico. \n",
    "Vea la imagen de abajo para visualizar lo que le sucede a un modelo cuando hay valores atípicos presentes y cuando se los ha tratado:\n",
    "![treatment_model](impact-of-outliers.png)\n",
    "Pero aquí está la advertencia: los valores atípicos no siempre son algo malo, estos son solo observaciones que no siguen el mismo patrón que las otras, pero puede darse el caso de que un valor atípico sea muy interesante. Por ejemplo, si en un experimento biológico, una rata no está muerta mientras que todas las demás lo están, entonces sería muy interesante entender el por qué. Otro ejemplo sería en la compra recurrente de productos por una persona, y en cierto momento adquiere un producto de alto valor, éste podría ser un punto para detectar fraude bancario. Por lo tanto, es importante detectar los valores atípicos.\n",
    "\n",
    "Es muy importante entender esto. Simplemente eliminar los valores atípicos de sus datos sin tener en cuenta cómo afectarán los resultados es una receta para el desastre.\n",
    "\n",
    "Existen numerosos impactos desfavorables de valores atípicos en el conjunto de datos:\n",
    "\n",
    "+ Aumenta la varianza del error y reduce el poder de las pruebas estadísticas.\n",
    "+ Si los valores atípicos se distribuyen de forma no aleatoria, pueden disminuir la normalidad.\n",
    "+ Pueden sesgar o influir en estimaciones que pueden ser de interés sustantivo.\n",
    "+ También pueden afectar el supuesto básico de Regresión, ANOVA y otros supuestos del modelo estadístico.\n",
    "\n",
    "Para comprender el impacto en profundidad, tomemos un ejemplo para comprobar qué sucede con un conjunto de datos con y sin valores atípicos en el conjunto de datos.\n"
   ]
  },
  {
   "cell_type": "code",
   "execution_count": 1,
   "metadata": {},
   "outputs": [
    {
     "data": {
      "text/html": [
       "<div>\n",
       "<style scoped>\n",
       "    .dataframe tbody tr th:only-of-type {\n",
       "        vertical-align: middle;\n",
       "    }\n",
       "\n",
       "    .dataframe tbody tr th {\n",
       "        vertical-align: top;\n",
       "    }\n",
       "\n",
       "    .dataframe thead th {\n",
       "        text-align: right;\n",
       "    }\n",
       "</style>\n",
       "<table border=\"1\" class=\"dataframe\">\n",
       "  <thead>\n",
       "    <tr style=\"text-align: right;\">\n",
       "      <th></th>\n",
       "      <th>Without_outlier</th>\n",
       "      <th>With_outlier</th>\n",
       "    </tr>\n",
       "  </thead>\n",
       "  <tbody>\n",
       "    <tr>\n",
       "      <th>a</th>\n",
       "      <td>4.0</td>\n",
       "      <td>4</td>\n",
       "    </tr>\n",
       "    <tr>\n",
       "      <th>b</th>\n",
       "      <td>4.0</td>\n",
       "      <td>4</td>\n",
       "    </tr>\n",
       "    <tr>\n",
       "      <th>c</th>\n",
       "      <td>5.0</td>\n",
       "      <td>5</td>\n",
       "    </tr>\n",
       "    <tr>\n",
       "      <th>d</th>\n",
       "      <td>5.0</td>\n",
       "      <td>5</td>\n",
       "    </tr>\n",
       "    <tr>\n",
       "      <th>e</th>\n",
       "      <td>5.0</td>\n",
       "      <td>5</td>\n",
       "    </tr>\n",
       "    <tr>\n",
       "      <th>f</th>\n",
       "      <td>5.0</td>\n",
       "      <td>5</td>\n",
       "    </tr>\n",
       "    <tr>\n",
       "      <th>g</th>\n",
       "      <td>6.0</td>\n",
       "      <td>6</td>\n",
       "    </tr>\n",
       "    <tr>\n",
       "      <th>h</th>\n",
       "      <td>6.0</td>\n",
       "      <td>6</td>\n",
       "    </tr>\n",
       "    <tr>\n",
       "      <th>i</th>\n",
       "      <td>6.0</td>\n",
       "      <td>6</td>\n",
       "    </tr>\n",
       "    <tr>\n",
       "      <th>j</th>\n",
       "      <td>7.0</td>\n",
       "      <td>7</td>\n",
       "    </tr>\n",
       "    <tr>\n",
       "      <th>k</th>\n",
       "      <td>7.0</td>\n",
       "      <td>7</td>\n",
       "    </tr>\n",
       "    <tr>\n",
       "      <th>l</th>\n",
       "      <td>NaN</td>\n",
       "      <td>300</td>\n",
       "    </tr>\n",
       "  </tbody>\n",
       "</table>\n",
       "</div>"
      ],
      "text/plain": [
       "   Without_outlier  With_outlier\n",
       "a              4.0             4\n",
       "b              4.0             4\n",
       "c              5.0             5\n",
       "d              5.0             5\n",
       "e              5.0             5\n",
       "f              5.0             5\n",
       "g              6.0             6\n",
       "h              6.0             6\n",
       "i              6.0             6\n",
       "j              7.0             7\n",
       "k              7.0             7\n",
       "l              NaN           300"
      ]
     },
     "execution_count": 1,
     "metadata": {},
     "output_type": "execute_result"
    }
   ],
   "source": [
    "# Pandas Dataframe from Dicts of series. \n",
    "  \n",
    "import pandas as pd \n",
    "  \n",
    "# Intialise data to Dicts of series. \n",
    "data = {'Without_outlier' : pd.Series([4, 4, 5, 5, 5, 5, 6, 6, 6, 7, 7], index =['a', 'b', 'c', 'd', 'e', 'f',\n",
    "                                                                              'g', 'h', 'i', 'j', 'k']), \n",
    "      'With_outlier' : pd.Series([4, 4, 5, 5, 5, 5, 6, 6, 6, 7, 7, 300], index =['a', 'b', 'c', 'd', 'e', 'f',\n",
    "                                                                              'g', 'h', 'i', 'j', 'k', 'l'])}  \n",
    "\n",
    "# creates Dataframe. \n",
    "df = pd.DataFrame(data) \n",
    "\n",
    "# print the data. \n",
    "df # print(df)"
   ]
  },
  {
   "cell_type": "code",
   "execution_count": 2,
   "metadata": {},
   "outputs": [
    {
     "name": "stdout",
     "output_type": "stream",
     "text": [
      "       Without_outlier  With_outlier\n",
      "count        11.000000     12.000000\n",
      "mean          5.454545     30.000000\n",
      "std           1.035725     85.033683\n",
      "min           4.000000      4.000000\n",
      "25%           5.000000      5.000000\n",
      "50%           5.000000      5.500000\n",
      "75%           6.000000      6.250000\n",
      "max           7.000000    300.000000\n",
      "Mode:    Without_outlier  With_outlier\n",
      "0              5.0             5\n"
     ]
    }
   ],
   "source": [
    "#Summary statistics\n",
    "print(df.describe())\n",
    "\n",
    "#Median and mode\n",
    "print(f'Mode: {df.mode()}')"
   ]
  },
  {
   "cell_type": "markdown",
   "metadata": {},
   "source": [
    "Como se puede ver, el conjunto de datos con valores atípicos tiene una media y una desviación estándar significativamente diferentes. En el primer escenario, diremos que el promedio es de 5,45. Pero con el valor atípico, el promedio se eleva a 30. Esto cambiaría la estimación por completo."
   ]
  },
  {
   "cell_type": "markdown",
   "metadata": {},
   "source": [
    "***\n",
    "En este documento se mostraré las siguientes formas de identificar y tratar los valores atípicos en su conjunto de datos.\n",
    "\n",
    "## Detección de valores atípicos\n",
    "- Análisis de valor extremo (Extreme Value Analysis)\n",
    "- Método de Z-score (Z-score method)\n",
    "- Enfoque basado en agrupamiento K-Means (K Means clustering-based approach)\n",
    "- Visualizando los datos (Visualizing the data)\n",
    "\n",
    "## Tratamiento de datos atípicos\n",
    "- Imputación de medida media/mediana o aleatoria (Mean/Median or random Imputation)\n",
    "- Guarnición (Trimming)\n",
    "- Codificación superior, inferior y cero (Top, Bottom and Zero Coding)\n",
    "- Discretización (Discretization)\n",
    "\n",
    "Sin embargo, __ninguno de estos métodos nos indicará la verdad objetiva acerca de cuáles de las observaciones son valores atípicos__. No existe una definición matemática rígida de lo que constituye un valor atípico; determinar si una observación es un valor atípico o no es un ejercicio subjetivo que depende en gran medida del marco del problema. Por lo tanto, los métodos analizados en este artículo pueden ser un punto de partida para identificar puntos en sus datos que deben tratarse como valores atípicos."
   ]
  },
  {
   "cell_type": "markdown",
   "metadata": {},
   "source": [
    "## Detección\n",
    "\n",
    "Existen múltiples métodos para identificar valores atípicos en el conjunto de datos. Voy a discutir los siguientes tipos:\n",
    "1. Extreme Value Analysis\n",
    "2. Z-score method\n",
    "3. K Means clustering-based approach\n",
    "4. Visualizing the data\n",
    "\n",
    "Es importante reiterar que estos métodos no deben usarse mecánicamente. Deben ser utilizados para explorar los datos. Te permiten saber qué puntos podrían merecer una mirada más cercana.\n",
    "\n",
    "Usaré el conjunto de datos de préstamos de Lending Club de Kaggle para mostrar ejemplos."
   ]
  },
  {
   "cell_type": "code",
   "execution_count": 26,
   "metadata": {},
   "outputs": [
    {
     "data": {
      "text/html": [
       "<div>\n",
       "<style scoped>\n",
       "    .dataframe tbody tr th:only-of-type {\n",
       "        vertical-align: middle;\n",
       "    }\n",
       "\n",
       "    .dataframe tbody tr th {\n",
       "        vertical-align: top;\n",
       "    }\n",
       "\n",
       "    .dataframe thead th {\n",
       "        text-align: right;\n",
       "    }\n",
       "</style>\n",
       "<table border=\"1\" class=\"dataframe\">\n",
       "  <thead>\n",
       "    <tr style=\"text-align: right;\">\n",
       "      <th></th>\n",
       "      <th>annual_inc</th>\n",
       "    </tr>\n",
       "  </thead>\n",
       "  <tbody>\n",
       "    <tr>\n",
       "      <th>0</th>\n",
       "      <td>55000.0</td>\n",
       "    </tr>\n",
       "    <tr>\n",
       "      <th>1</th>\n",
       "      <td>90000.0</td>\n",
       "    </tr>\n",
       "    <tr>\n",
       "      <th>2</th>\n",
       "      <td>59280.0</td>\n",
       "    </tr>\n",
       "    <tr>\n",
       "      <th>3</th>\n",
       "      <td>92000.0</td>\n",
       "    </tr>\n",
       "    <tr>\n",
       "      <th>4</th>\n",
       "      <td>57250.0</td>\n",
       "    </tr>\n",
       "  </tbody>\n",
       "</table>\n",
       "</div>"
      ],
      "text/plain": [
       "   annual_inc\n",
       "0     55000.0\n",
       "1     90000.0\n",
       "2     59280.0\n",
       "3     92000.0\n",
       "4     57250.0"
      ]
     },
     "execution_count": 26,
     "metadata": {},
     "output_type": "execute_result"
    }
   ],
   "source": [
    "import pandas as pd\n",
    "import numpy as np \n",
    "import seaborn as sns\n",
    "import matplotlib.pyplot as plt\n",
    "%matplotlib inline\n",
    "\n",
    "# Import dataset\n",
    "use_cols = ['annual_inc'] # Just upload one column\n",
    "data = pd.read_csv('loan.csv', usecols=use_cols, nrows = 30000)\n",
    "data.head()"
   ]
  },
  {
   "cell_type": "markdown",
   "metadata": {},
   "source": [
    "## Extreme Value Analysis\n",
    "\n",
    "La forma más básica de detección de valores atípicos es el análisis del Valor Extremo. La clave de este método es determinar las colas estadísticas de la distribución subyacente de la variable y encontrar los valores en el extremo extremo de las colas.\n",
    "\n",
    "En el caso de una distribución gaussiana, los valores atípicos quedarán fuera de la media más o menos 3 veces la desviación estándar de la variable.\n",
    "\n",
    "![gaussian curve](gaussian.png)\n",
    "\n",
    "Si la variable no posee una distribución normal (no es una distribución gaussiana), un enfoque general es calcular los cuartiles y luego el rango intercuartil.\n",
    "\n",
    "![quartile](quartile.jpg)\n",
    "\n",
    "\n",
    "> IQR (Inter quantiles range)= 75th quantile — 25th quantile\n",
    "\n",
    "Un valor atípico estará en los siguientes límites superiores e inferiores:\n",
    "\n",
    "> Upper Boundary = 75th quantile +(IQR * 1.5)\n",
    "\n",
    "> Lower Boundary = 25th quantile — (IQR * 1.5)\n",
    "\n",
    "O para casos extremos:\n",
    "\n",
    "> Upper Boundary = 75th quantile +(IQR * 3)\n",
    "\n",
    "> Lower Boundary = 25th quantile — (IQR * 3)\n",
    "\n",
    "Si el punto de datos está por encima del límite superior o por debajo del límite inferior, puede considerarse como un valor atípico."
   ]
  },
  {
   "cell_type": "code",
   "execution_count": 4,
   "metadata": {},
   "outputs": [
    {
     "name": "stdout",
     "output_type": "stream",
     "text": [
      "Upper limit: 178000.0, upper limit extreme: 256000.0\n"
     ]
    }
   ],
   "source": [
    "# Rango intercuartil para nuestro conjunto de datos\n",
    "IQR = data.annual_inc.quantile(0.75) - data.annual_inc.quantile(0.25)\n",
    "\n",
    "# Usando el IQR, calculamos el límite superior usando las fórmulas mencionadas anteriormente\n",
    "upper_limit = data.annual_inc.quantile(0.75) + (IQR * 1.5)\n",
    "upper_limit_extreme = data.annual_inc.quantile(0.75) + (IQR * 3)\n",
    "\n",
    "print(f'Upper limit: {upper_limit}, upper limit extreme: {upper_limit_extreme}')"
   ]
  },
  {
   "cell_type": "markdown",
   "metadata": {},
   "source": [
    "Ahora, veamos la proporción de puntos de datos sobre el límite superior y el límite superior extremo. Es decir, los valores atípicos."
   ]
  },
  {
   "cell_type": "code",
   "execution_count": 5,
   "metadata": {},
   "outputs": [
    {
     "name": "stdout",
     "output_type": "stream",
     "text": [
      "Total data: 30000.0\n",
      "Total borrowers: 1.0\n",
      "Borrowers that earn > 178k: 0.05433333333333333\n",
      "Borrowers that earn > 256k: 0.0162\n"
     ]
    }
   ],
   "source": [
    "total = np.float(data.shape[0])\n",
    "print(f'Total data: {total}')\n",
    "print('Total borrowers: {}'.format(data.annual_inc.shape[0]/total)) # Prestatarios totales\n",
    "print('Borrowers that earn > 178k: {}'.format(data[data.annual_inc > upper_limit].shape[0] / total))\n",
    "print('Borrowers that earn > 256k: {}'.format(data[data.annual_inc > upper_limit_extreme].shape[0] / total))"
   ]
  },
  {
   "cell_type": "markdown",
   "metadata": {},
   "source": [
    "Podemos ver que aproximadamente el 5% de los datos está por encima del límite superior y el 1% de los datos por encima del límite superior extremo."
   ]
  },
  {
   "cell_type": "markdown",
   "metadata": {},
   "source": [
    "## Standard Score (Z-Score)\n",
    "\n",
    "Z-Score representa la cantidad de desviaciones estándar que una medida dada desvía de la media. En otras palabras, simplemente vuelve a escalar o estandariza sus datos. Un puntaje Z sirve para especificar la ubicación precisa de cada observación dentro de una distribución. El signo del puntaje Z (+ o -) indica si el puntaje está por encima (+) o por debajo (-) de la media.\n",
    "\n",
    "El objetivo de tomar los Z-Score's es eliminar los efectos de la ubicación y la escala de los datos, lo que permite comparar diferentes conjuntos de datos directamente. La intuición detrás del método de puntaje Z de detección de valores atípicos es que, una vez que hayamos centrado y reescalado los datos, cualquier cosa que esté muy lejos de cero (el umbral suele ser una puntuación Z de 3 o -3) debe considerarse una parte aislada.\n",
    "\n",
    "La fórmula para calcular la puntuación Z es:\n",
    "\n",
    "![z-score](z-score.png)\n"
   ]
  },
  {
   "cell_type": "code",
   "execution_count": 9,
   "metadata": {},
   "outputs": [
    {
     "name": "stdout",
     "output_type": "stream",
     "text": [
      "[[-0.3040589 ]\n",
      " [ 0.06618657]\n",
      " [-0.25878317]\n",
      " ...\n",
      " [ 0.12965722]\n",
      " [ 1.22981519]\n",
      " [-0.19827448]]\n",
      "(array([   55,   127,   215,   453,   503,   512,   644,   680,  1059,\n",
      "        1631,  1803,  2078,  2341,  2508,  2582,  2688,  2689,  2739,\n",
      "        2967,  3069,  3122,  3272,  3523,  3558,  3565,  3784,  4711,\n",
      "        4731,  4849,  4931,  5128,  5211,  5534,  5746,  5889,  5957,\n",
      "        6044,  6214,  6685,  6745,  6834,  6948,  6984,  6992,  7144,\n",
      "        7551,  7678,  8063,  8091,  8347,  8355,  8709,  8766,  8883,\n",
      "        9030,  9267,  9370,  9522,  9699, 10135, 10639, 10665, 10787,\n",
      "       10994, 11053, 11181, 11381, 11467, 11784, 11786, 11881, 12297,\n",
      "       12336, 12430, 12909, 12978, 13118, 13231, 13483, 13554, 13677,\n",
      "       13974, 14119, 14309, 14742, 14894, 15073, 15228, 15383, 15460,\n",
      "       15991, 16045, 16218, 16291, 16780, 16888, 17290, 17335, 17582,\n",
      "       17862, 17917, 17998, 18050, 18188, 18436, 18634, 18805, 18907,\n",
      "       18927, 19040, 19159, 19167, 19547, 19703, 19940, 19962, 19982,\n",
      "       19984, 20057, 20115, 20173, 20225, 20265, 20593, 20694, 20702,\n",
      "       20800, 20818, 21093, 21329, 21867, 22004, 22662, 22726, 23120,\n",
      "       23211, 23378, 23565, 23690, 24345, 24383, 24437, 24667, 24814,\n",
      "       24858, 25160, 25458, 25521, 25860, 25865, 26061, 26757, 26787,\n",
      "       26817, 27333, 27973, 28161, 28357, 28541, 28630, 28773, 29000,\n",
      "       29262, 29495, 29657, 29804]), array([0, 0, 0, 0, 0, 0, 0, 0, 0, 0, 0, 0, 0, 0, 0, 0, 0, 0, 0, 0, 0, 0,\n",
      "       0, 0, 0, 0, 0, 0, 0, 0, 0, 0, 0, 0, 0, 0, 0, 0, 0, 0, 0, 0, 0, 0,\n",
      "       0, 0, 0, 0, 0, 0, 0, 0, 0, 0, 0, 0, 0, 0, 0, 0, 0, 0, 0, 0, 0, 0,\n",
      "       0, 0, 0, 0, 0, 0, 0, 0, 0, 0, 0, 0, 0, 0, 0, 0, 0, 0, 0, 0, 0, 0,\n",
      "       0, 0, 0, 0, 0, 0, 0, 0, 0, 0, 0, 0, 0, 0, 0, 0, 0, 0, 0, 0, 0, 0,\n",
      "       0, 0, 0, 0, 0, 0, 0, 0, 0, 0, 0, 0, 0, 0, 0, 0, 0, 0, 0, 0, 0, 0,\n",
      "       0, 0, 0, 0, 0, 0, 0, 0, 0, 0, 0, 0, 0, 0, 0, 0, 0, 0, 0, 0, 0, 0,\n",
      "       0, 0, 0, 0, 0, 0, 0, 0, 0, 0, 0, 0]))\n"
     ]
    }
   ],
   "source": [
    "from scipy import stats\n",
    "\n",
    "# Calculing z-score\n",
    "z = stats.zscore(data)\n",
    "print(z)\n",
    "\n",
    "# Threshold > 3\n",
    "threshold = 3\n",
    "print(np.where(z > 3))"
   ]
  },
  {
   "cell_type": "markdown",
   "metadata": {},
   "source": [
    "En la salida anterior del umbral > 3, la primera matriz contiene la lista de números de fila (posiciones donde es Z>3) y la segunda matriz de la columna respectiva (en este caso sólo hay una columna)."
   ]
  },
  {
   "cell_type": "markdown",
   "metadata": {},
   "source": [
    "## Clustering Method\n",
    "\n",
    "La agrupación en clúster es una técnica popular que se utiliza para agrupar puntos de datos u objetos similares en grupos o agrupaciones. También se puede utilizar como una herramienta importante para el análisis de valores atípicos. En este enfoque, comenzamos agrupando el tipo de objetos similares.\n",
    "\n",
    "Vamos a utilizar la agrupación K-Means, que nos ayudará a agrupar los puntos de datos (valores de ingresos anuales en nuestro caso). La implementación que vamos a utilizar para KMeans utiliza la distancia euclidiana para agrupar objetos similares."
   ]
  },
  {
   "cell_type": "markdown",
   "metadata": {},
   "source": [
    "Los centroides son el centro de los grupos generados por kmeans() y avg_distance es la distancia euclidiana promediada entre los puntos de datos y los centroides generados por kmeans(). El siguiente paso es llamar al método vq(). éste devuelve los grupos (clústeres) de los puntos de datos y las distancias entre los puntos de datos y sus grupos más cercanos."
   ]
  },
  {
   "cell_type": "code",
   "execution_count": 10,
   "metadata": {},
   "outputs": [
    {
     "data": {
      "image/png": "[encoded data removed]",
      "text/plain": [
       "<Figure size 432x288 with 1 Axes>"
      ]
     },
     "metadata": {
      "needs_background": "light"
     },
     "output_type": "display_data"
    }
   ],
   "source": [
    "from scipy.cluster.vq import kmeans\n",
    "from scipy.cluster.vq import vq\n",
    "\n",
    "# \n",
    "data_raw = data['annual_inc'].values # convertimos los datos en una matriz numpy\n",
    "centroids, avg_distance = kmeans(data_raw, 4) # Tenemos que dar dos entradas: datos y el número de agrupaciones que se formarán\n",
    "groups, cdist = vq(data_raw, centroids)\n",
    "\n",
    "y = np.arange(0, total)\n",
    "plt.scatter(data_raw,  y , c=groups)\n",
    "plt.xlabel('Salaries')\n",
    "plt.ylabel('Indices')\n",
    "plt.show()"
   ]
  },
  {
   "cell_type": "markdown",
   "metadata": {},
   "source": [
    "Aquí se observa claramete cuales son los datos atípicos"
   ]
  },
  {
   "cell_type": "markdown",
   "metadata": {},
   "source": [
    "## Graphical Approach\n",
    "\n",
    "Para la visualización, o inspección visual, se puede hacer uso de las 3 principales formas de visualización, caja de bigotes, histograma y scatter."
   ]
  },
  {
   "cell_type": "markdown",
   "metadata": {},
   "source": [
    "### Box plot\n",
    "\n",
    "El diagrama de diagrama de caja de bigotes es un método gráfico representado típicamente por cuartiles e intercuartiles que ayuda a definir el límite superior y el límite inferior más allá del cual cualquier dato que se encuentre se considerará como valores atípicos.\n",
    "\n",
    "En resumen, los cuartiles son puntos en una distribución que se relaciona con el orden de clasificación de los valores en esa distribución. Para una muestra dada, se puede encontrar cualquier cuartil ordenando la muestra. El valor medio de la muestra clasificada es el cuartil medio o el percentil 50 (también conocido como la mediana de la muestra).\n",
    "\n",
    "![quartile](quartile.png)\n",
    "\n",
    "El propósito mismo de los diagramas de bigotes es identificar valores atípicos en la serie de datos antes de realizar un análisis adicional, de modo que la conclusión del estudio proporcione resultados más precisos que no están influenciados por ningún extremo o valor anormal."
   ]
  },
  {
   "cell_type": "code",
   "execution_count": 11,
   "metadata": {},
   "outputs": [
    {
     "data": {
      "text/plain": [
       "<matplotlib.axes._subplots.AxesSubplot at 0x7f05ed415ef0>"
      ]
     },
     "execution_count": 11,
     "metadata": {},
     "output_type": "execute_result"
    },
    {
     "data": {
      "image/png": "[encoded data removed]",
      "text/plain": [
       "<Figure size 432x288 with 1 Axes>"
      ]
     },
     "metadata": {
      "needs_background": "light"
     },
     "output_type": "display_data"
    }
   ],
   "source": [
    "import seaborn as sns\n",
    "\n",
    "\n",
    "sns.boxplot(y='annual_inc', data = data)"
   ]
  },
  {
   "cell_type": "markdown",
   "metadata": {},
   "source": [
    "Aquí, los valores atípicos son observaciones que están numéricamente distantes del resto de los datos. Al revisar un diagrama de bigotes, un valor atípico es un punto de datos que se encuentra fuera de las vallas (\"bigotes\") del diagrama de caja."
   ]
  },
  {
   "cell_type": "markdown",
   "metadata": {},
   "source": [
    "### Histograms\n",
    "\n",
    "Los histogramas son uno de los gráficos más comunes que se utilizan para mostrar datos numéricos y encontrar la distribución del conjunto de datos. Un valor atípico es una observación que se encuentra fuera del patrón general de distribución."
   ]
  },
  {
   "cell_type": "code",
   "execution_count": 12,
   "metadata": {},
   "outputs": [
    {
     "data": {
      "text/plain": [
       "(0, 500000)"
      ]
     },
     "execution_count": 12,
     "metadata": {},
     "output_type": "execute_result"
    },
    {
     "data": {
      "image/png": "[encoded data removed]",
      "text/plain": [
       "<Figure size 432x288 with 1 Axes>"
      ]
     },
     "metadata": {
      "needs_background": "light"
     },
     "output_type": "display_data"
    }
   ],
   "source": [
    "fig = data.annual_inc.hist(bins=500)\n",
    "fig.set_xlim(0,500000)"
   ]
  },
  {
   "cell_type": "markdown",
   "metadata": {},
   "source": [
    "Aquí, los puntos de datos en el extremo derecho del eje x pueden considerarse de los valores atípicos."
   ]
  },
  {
   "cell_type": "markdown",
   "metadata": {},
   "source": [
    "### Scatter Plot\n",
    "\n",
    "Los diagramas de dispersión se utilizan para encontrar la asociación entre dos variables y esa asociación a menudo tiene un patrón. Llamamos a un punto de datos como un valor atípico si no se ajusta al patrón."
   ]
  },
  {
   "cell_type": "code",
   "execution_count": 14,
   "metadata": {},
   "outputs": [
    {
     "data": {
      "image/png": "[encoded data removed]",
      "text/plain": [
       "<Figure size 432x288 with 1 Axes>"
      ]
     },
     "metadata": {
      "needs_background": "light"
     },
     "output_type": "display_data"
    }
   ],
   "source": [
    "data_raw = data['annual_inc'].values\n",
    "y = np.arange(0,30000)\n",
    "plt.scatter(data_raw,  y)\n",
    "plt.ylabel('Annual Income')\n",
    "plt.xlabel('Indices')\n",
    "plt.show()"
   ]
  },
  {
   "cell_type": "markdown",
   "metadata": {},
   "source": [
    "## Tratamiento\n",
    "\n",
    "Se tienen las siguientes técnicas:\n",
    "1. Mean/Median or random Imputation\n",
    "2. Trimming\n",
    "3. Top, Bottom and Zero Coding\n",
    "4. Discretization"
   ]
  },
  {
   "cell_type": "markdown",
   "metadata": {},
   "source": [
    "### Mean / Median / Random Sampling\n",
    "\n",
    "Si tenemos razones para creer que los valores atípicos se deben a errores mecánicos o problemas durante la medición. Eso significa que los valores atípicos son en naturaleza similares a los datos faltantes, entonces cualquier método utilizado para imputación de datos faltantes puede ser usado para reemplazar valores atípicos. Los números que aparecen en valores atípicos son pequeños (de lo contrario, no se llamarán valores atípicos) y es razonable utilizar la imputación media / mediana / aleatoria para reemplazarlos.\n",
    "\n",
    "Esta no es la mejor manera para el tratamiento de los datos, por ende no se va a aplicar."
   ]
  },
  {
   "cell_type": "markdown",
   "metadata": {},
   "source": [
    "### Trimming\n",
    "\n",
    "Bajo este enfoque, se analiza un conjunto de datos que excluye valores atípicos. Los estimadores recortados, como la media / mediana, disminuyen la varianza en los datos y causan un sesgo basado en una subestimación o sobreestimación. Dado que los valores atípicos también son valores observados, excluirlos del análisis hace que este enfoque sea inadecuado para el tratamiento de los valores atípicos.\n",
    "\n",
    "En este método, descartamos los valores atípicos por completo. Es decir, eliminar los puntos de datos que se consideran valores atípicos. En situaciones en las que no eliminará una gran cantidad de valores del conjunto de datos, el recorte es un enfoque bueno y rápido."
   ]
  },
  {
   "cell_type": "code",
   "execution_count": 24,
   "metadata": {},
   "outputs": [],
   "source": [
    "index = data[(data['annual_inc'] >= upper_limit_extreme)].index  # FInd the value index (position)\n",
    "data.drop(index, inplace=True)  # delete that value by index"
   ]
  },
  {
   "cell_type": "markdown",
   "metadata": {},
   "source": [
    "Aquí usamos el método de eliminación de la librería pandas para eliminar todos los registros que son más que el valor límite superior que encontramos utilizando el __análisis de valor extremo__."
   ]
  },
  {
   "cell_type": "code",
   "execution_count": 23,
   "metadata": {},
   "outputs": [
    {
     "data": {
      "text/plain": [
       "<matplotlib.axes._subplots.AxesSubplot at 0x7f05ec9e0940>"
      ]
     },
     "execution_count": 23,
     "metadata": {},
     "output_type": "execute_result"
    },
    {
     "data": {
      "image/png": "[encoded data removed]",
      "text/plain": [
       "<Figure size 432x288 with 1 Axes>"
      ]
     },
     "metadata": {
      "needs_background": "light"
     },
     "output_type": "display_data"
    }
   ],
   "source": [
    "# Show the changes\n",
    "sns.boxplot(y='annual_inc', data = data)"
   ]
  },
  {
   "cell_type": "markdown",
   "metadata": {},
   "source": [
    "### Top / bottom / zero Coding\n",
    "\n",
    "__Top coding__, significa limitar el máximo de la distribución a un valor establecido arbitrario. Una variable en la parte superior es aquella para la cual se censuran los puntos de datos sobre un límite superior. Al implementar la codificación superior, el valor atípico se limita a un cierto valor máximo y se parece a muchas otras observaciones.\n",
    "\n",
    "__Bottom coding__, es análoga pero en el lado izquierdo de la distribución. Es decir, todos los valores por debajo de un cierto umbral están limitados a ese umbral. Si el umbral es cero, entonces se conoce como __zero coding__. Por ejemplo, para variables como \"edad\" o \"ganancias\", no es posible tener valores negativos. Por lo tanto, es razonable limitar el valor más bajo a cero."
   ]
  },
  {
   "cell_type": "code",
   "execution_count": 33,
   "metadata": {},
   "outputs": [
    {
     "name": "stdout",
     "output_type": "stream",
     "text": [
      "Annual Income > 256000: 0\n",
      "Percentage of outliers: 0.0\n",
      "Max value in the dataset: 256000.0\n"
     ]
    }
   ],
   "source": [
    "print('Annual Income > 256000: {}'.format(data[data.annual_inc > upper_limit_extreme].shape[0])) # value of Upper_limit_extreme\n",
    "print('Percentage of outliers: {}'.format(data[data.annual_inc > upper_limit_extreme].shape[0]/np.float(data.shape[0]))) # The percentage of this value respect all data\n",
    "\n",
    "# In this step, we are capping the data points with values greater than 256000 to 256000.\n",
    "data.loc[data.annual_inc > upper_limit_extreme,'annual_inc'] = upper_limit_extreme # access to higher values with respect to the threshold and replace it\n",
    "print('Max value in the dataset: {}'.format(data.annual_inc.max()))"
   ]
  },
  {
   "cell_type": "markdown",
   "metadata": {},
   "source": [
    "### Discretization\n",
    "\n",
    "La discretización es el proceso de transformación de variables continuas en variables discretas mediante la creación de un conjunto de intervalos contiguos que abarca el rango de los valores de la variable. Por lo tanto, estas observaciones atípicas ya no se diferencian del resto de los valores en las colas de la distribución, ya que están todas juntas en el mismo intervalo.\n",
    "\n",
    "Hay varios enfoques para transformar variables continuas en discretas. Este proceso también se conoce como compartimiento (__binning__), con cada compartimiento  siendo un intervalo.\n",
    "\n",
    "#### Métodos\n",
    "1. Equal frequency binning\n",
    "2. Equal width binning\n"
   ]
  },
  {
   "cell_type": "markdown",
   "metadata": {},
   "source": [
    "#### Equal frequency binning\n",
    "\n",
    "El binning de frecuencia igual divide los valores posibles de la variable en N bins, donde cada bin lleva la misma cantidad de observaciones. Esto es particularmente útil para las variables sesgadas, ya que distribuye las observaciones en los diferentes contenedores por igual. Típicamente, encontramos los límites del intervalo al determinar los cuantiles. Esto ayudaría en la mínima pérdida de información y produce mejores resultados.\n"
   ]
  },
  {
   "cell_type": "code",
   "execution_count": 35,
   "metadata": {},
   "outputs": [
    {
     "data": {
      "text/html": [
       "<div>\n",
       "<style scoped>\n",
       "    .dataframe tbody tr th:only-of-type {\n",
       "        vertical-align: middle;\n",
       "    }\n",
       "\n",
       "    .dataframe tbody tr th {\n",
       "        vertical-align: top;\n",
       "    }\n",
       "\n",
       "    .dataframe thead th {\n",
       "        text-align: right;\n",
       "    }\n",
       "</style>\n",
       "<table border=\"1\" class=\"dataframe\">\n",
       "  <thead>\n",
       "    <tr style=\"text-align: right;\">\n",
       "      <th></th>\n",
       "      <th>annual_inc</th>\n",
       "      <th>annual_inc</th>\n",
       "    </tr>\n",
       "  </thead>\n",
       "  <tbody>\n",
       "    <tr>\n",
       "      <th>0</th>\n",
       "      <td>(44000.0, 60000.0]</td>\n",
       "      <td>55000.0</td>\n",
       "    </tr>\n",
       "    <tr>\n",
       "      <th>1</th>\n",
       "      <td>(80000.0, 110000.0]</td>\n",
       "      <td>90000.0</td>\n",
       "    </tr>\n",
       "    <tr>\n",
       "      <th>2</th>\n",
       "      <td>(44000.0, 60000.0]</td>\n",
       "      <td>59280.0</td>\n",
       "    </tr>\n",
       "    <tr>\n",
       "      <th>3</th>\n",
       "      <td>(80000.0, 110000.0]</td>\n",
       "      <td>92000.0</td>\n",
       "    </tr>\n",
       "    <tr>\n",
       "      <th>4</th>\n",
       "      <td>(44000.0, 60000.0]</td>\n",
       "      <td>57250.0</td>\n",
       "    </tr>\n",
       "  </tbody>\n",
       "</table>\n",
       "</div>"
      ],
      "text/plain": [
       "            annual_inc  annual_inc\n",
       "0   (44000.0, 60000.0]     55000.0\n",
       "1  (80000.0, 110000.0]     90000.0\n",
       "2   (44000.0, 60000.0]     59280.0\n",
       "3  (80000.0, 110000.0]     92000.0\n",
       "4   (44000.0, 60000.0]     57250.0"
      ]
     },
     "execution_count": 35,
     "metadata": {},
     "output_type": "execute_result"
    }
   ],
   "source": [
    "# Aquí estamos creando 5 bins utilizando la función qcut() de pandas (función de discretización basada en Quantile)\n",
    "\n",
    "income_discretised, intervals = pd.qcut(data.annual_inc, 5, labels=None, retbins=True, precision=3, duplicates='raise')\n",
    "pd.concat([income_discretised, data.annual_inc], axis=1).head()\n"
   ]
  },
  {
   "cell_type": "code",
   "execution_count": 37,
   "metadata": {},
   "outputs": [
    {
     "name": "stdout",
     "output_type": "stream",
     "text": [
      "The intervals are [     0.  44000.  60000.  80000. 110000. 256000.]\n"
     ]
    }
   ],
   "source": [
    "# And the intervals are\n",
    "print(f'The intervals are {intervals}')"
   ]
  },
  {
   "cell_type": "markdown",
   "metadata": {},
   "source": [
    "A continuación podemos ver que hay casi un número igual de observaciones en cada intervalo\n"
   ]
  },
  {
   "cell_type": "code",
   "execution_count": 38,
   "metadata": {},
   "outputs": [
    {
     "data": {
      "text/plain": [
       "income_discretised\n",
       "(-0.001, 44000.0]       6068\n",
       "(44000.0, 60000.0]      6346\n",
       "(60000.0, 80000.0]      6285\n",
       "(80000.0, 110000.0]     5499\n",
       "(110000.0, 256000.0]    5802\n",
       "Name: annual_inc, dtype: int64"
      ]
     },
     "execution_count": 38,
     "metadata": {},
     "output_type": "execute_result"
    }
   ],
   "source": [
    "temp = pd.concat([income_discretised, data.annual_inc], axis=1) #Concate the two data\n",
    "temp.columns = ['income_discretised', 'annual_inc'] # Put columns names \n",
    "temp.groupby('income_discretised')['annual_inc'].count() #Count by grouping"
   ]
  },
  {
   "cell_type": "markdown",
   "metadata": {},
   "source": [
    "#### Equal width binning\n",
    "\n",
    "Los intervalos de igual ancho dividen el alcance de los valores posibles en N bins del mismo ancho. El ancho está determinado por el rango de valores en la variable y el número de contenedores que queremos usar para dividir la variable.\n",
    "\n",
    "ancho = (valor máximo - valor mínimo) / N\n",
    "\n",
    "Por ejemplo, si los valores de la variable varían entre 0 y 100, creamos 5 contenedores como este: ancho = (100–0) / 5 = 20. Los primeros y últimos contenedores (0–20 y 80–100) se pueden expandir para dar cabida a los valores atípicos (es decir, los valores inferiores a 0 o superiores a 100 también se colocarán en esos contenedores).\n",
    "\n",
    "No hay una regla de oro para definir N. Depende del caso de uso."
   ]
  },
  {
   "cell_type": "code",
   "execution_count": 44,
   "metadata": {},
   "outputs": [
    {
     "name": "stdout",
     "output_type": "stream",
     "text": [
      "Min value: 0 \n",
      "Max value: 256000 \n",
      "Width: 51200\n",
      "Intervals: [0, 51200, 102400, 153600, 204800, 256000]\n",
      "Labels: ['Bin_1', 'Bin_2', 'Bin_3', 'Bin_4', 'Bin_5']\n"
     ]
    },
    {
     "data": {
      "text/html": [
       "<div>\n",
       "<style scoped>\n",
       "    .dataframe tbody tr th:only-of-type {\n",
       "        vertical-align: middle;\n",
       "    }\n",
       "\n",
       "    .dataframe tbody tr th {\n",
       "        vertical-align: top;\n",
       "    }\n",
       "\n",
       "    .dataframe thead th {\n",
       "        text-align: right;\n",
       "    }\n",
       "</style>\n",
       "<table border=\"1\" class=\"dataframe\">\n",
       "  <thead>\n",
       "    <tr style=\"text-align: right;\">\n",
       "      <th></th>\n",
       "      <th>annual_inc</th>\n",
       "      <th>annual_inc_labels</th>\n",
       "      <th>annual_inc_interval</th>\n",
       "    </tr>\n",
       "  </thead>\n",
       "  <tbody>\n",
       "    <tr>\n",
       "      <th>0</th>\n",
       "      <td>55000.0</td>\n",
       "      <td>Bin_2</td>\n",
       "      <td>(51200.0, 102400.0]</td>\n",
       "    </tr>\n",
       "    <tr>\n",
       "      <th>1</th>\n",
       "      <td>90000.0</td>\n",
       "      <td>Bin_2</td>\n",
       "      <td>(51200.0, 102400.0]</td>\n",
       "    </tr>\n",
       "    <tr>\n",
       "      <th>2</th>\n",
       "      <td>59280.0</td>\n",
       "      <td>Bin_2</td>\n",
       "      <td>(51200.0, 102400.0]</td>\n",
       "    </tr>\n",
       "    <tr>\n",
       "      <th>3</th>\n",
       "      <td>92000.0</td>\n",
       "      <td>Bin_2</td>\n",
       "      <td>(51200.0, 102400.0]</td>\n",
       "    </tr>\n",
       "    <tr>\n",
       "      <th>4</th>\n",
       "      <td>57250.0</td>\n",
       "      <td>Bin_2</td>\n",
       "      <td>(51200.0, 102400.0]</td>\n",
       "    </tr>\n",
       "  </tbody>\n",
       "</table>\n",
       "</div>"
      ],
      "text/plain": [
       "   annual_inc annual_inc_labels  annual_inc_interval\n",
       "0     55000.0             Bin_2  (51200.0, 102400.0]\n",
       "1     90000.0             Bin_2  (51200.0, 102400.0]\n",
       "2     59280.0             Bin_2  (51200.0, 102400.0]\n",
       "3     92000.0             Bin_2  (51200.0, 102400.0]\n",
       "4     57250.0             Bin_2  (51200.0, 102400.0]"
      ]
     },
     "execution_count": 44,
     "metadata": {},
     "output_type": "execute_result"
    }
   ],
   "source": [
    "income_range = data.annual_inc.max() - data.annual_inc.min()\n",
    "min_value = int(np.floor(data.annual_inc.min()))\n",
    "max_value = int(np.ceil(data.annual_inc.max()))\n",
    " \n",
    "# let's round the bin width\n",
    "inter_value = int(np.round(income_range/5))\n",
    "\n",
    "print(f'Min value: {min_value} \\nMax value: {max_value} \\nWidth: {inter_value}')\n",
    "\n",
    "# Now we are calculating the intervals\n",
    "intervals = [i for i in range(min_value, max_value + inter_value, inter_value)]\n",
    "labels = ['Bin_' + str(i) for i in range(1,len(intervals))]\n",
    "print(f'Intervals: {intervals}')\n",
    "print(f'Labels: {labels}')\n",
    "\n",
    "# Finally, we use pandas cut function to segment and sort data values into bins\n",
    "data['annual_inc_labels'] = pd.cut(x = data.annual_inc, bins=intervals, labels=labels, include_lowest=True)\n",
    "data['annual_inc_interval'] = pd.cut(x = data.annual_inc, bins=intervals, include_lowest=True)\n",
    "data.head()"
   ]
  },
  {
   "cell_type": "markdown",
   "metadata": {},
   "source": [
    "Podemos contar los datos en cada bandeja utilizando un gráfico de barras. \n",
    "Podemos ver que la mayoría de las personas en el conjunto de datos de muestra dado tienen un ingreso anual inferior a ~10000 (102400)"
   ]
  },
  {
   "cell_type": "code",
   "execution_count": 45,
   "metadata": {},
   "outputs": [
    {
     "data": {
      "text/plain": [
       "<matplotlib.axes._subplots.AxesSubplot at 0x7f05ec7e00b8>"
      ]
     },
     "execution_count": 45,
     "metadata": {},
     "output_type": "execute_result"
    },
    {
     "data": {
      "image/png": "[encoded data removed]",
      "text/plain": [
       "<Figure size 432x288 with 1 Axes>"
      ]
     },
     "metadata": {
      "needs_background": "light"
     },
     "output_type": "display_data"
    }
   ],
   "source": [
    "sns.countplot(data.annual_inc_labels)\n"
   ]
  },
  {
   "cell_type": "code",
   "execution_count": null,
   "metadata": {},
   "outputs": [],
   "source": []
  },
  {
   "cell_type": "markdown",
   "metadata": {},
   "source": [
    "## Bibiliografia\n",
    "\n",
    "[1] Sang Kyu Kwak1 and Jong Hae Kim, Statistical data preparation: management of missing values and outliers, Korean J Anesthesiol. 2017 Aug; 70(4): 407–411\n",
    "\n",
    "[2] https://www.udemy.com/feature-engineering-for-machine-learning/"
   ]
  },
  {
   "cell_type": "code",
   "execution_count": null,
   "metadata": {},
   "outputs": [],
   "source": [
    "data2 = pd.read_excel('FilterMeanAmplitude_P300.xlsx')\n",
    "data2 = data2.drop(['Sujeto', 'Unnamed: 118', 'ERPset'], axis=1)\n",
    "\n",
    "# Rango intercuartil para nuestro conjunto de datos\n",
    "IQR2 = data2.Fte_P4.quantile(0.75) - data2.Fte_P4.quantile(0.25)\n",
    "\n",
    "# Usando el IQR, calculamos el límite superior usando las fórmulas mencionadas anteriormente\n",
    "upper_limit2 = data2.Fte_P4.quantile(0.75) + (IQR2 * 1.5)\n",
    "upper_limit_extreme2 = data2.Fte_P4.quantile(0.75) + (IQR2 * 3)\n",
    "\n",
    "print(f'Upper limit: {upper_limit2}, upper limit extreme: {upper_limit_extreme2}')\n",
    "\n",
    "total2 = np.float(data2.Fte_P4.shape[0])\n",
    "print('Total Ft3_P4: {}'.format(data2.Fte_P4.shape[0]/total2)) # Prestatarios totales\n",
    "print('Fte_P4 > 11.03: {}'.format(data2[data2.Fte_P4 > upper_limit].Fte_P4.shape[0] / total2))\n",
    "print('Fte_P4 > 15.62: {}'.format(data2[data2.Fte_P4 > upper_limit_extreme].Fte_P4.shape[0] / total2))"
   ]
  },
  {
   "cell_type": "code",
   "execution_count": null,
   "metadata": {},
   "outputs": [],
   "source": []
  },
  {
   "cell_type": "code",
   "execution_count": null,
   "metadata": {},
   "outputs": [],
   "source": [
    "\n"
   ]
  },
  {
   "cell_type": "code",
   "execution_count": null,
   "metadata": {},
   "outputs": [],
   "source": []
  }
 ],
 "metadata": {
  "kernelspec": {
   "display_name": "Python 3",
   "language": "python",
   "name": "python3"
  },
  "language_info": {
   "codemirror_mode": {
    "name": "ipython",
    "version": 3
   },
   "file_extension": ".py",
   "mimetype": "text/x-python",
   "name": "python",
   "nbconvert_exporter": "python",
   "pygments_lexer": "ipython3",
   "version": "3.7.3"
  }
 },
 "nbformat": 4,
 "nbformat_minor": 2
}
